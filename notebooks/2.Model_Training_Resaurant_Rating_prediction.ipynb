{
 "cells": [
  {
   "cell_type": "markdown",
   "id": "a9f7f347-d142-4528-9996-6610aad62da2",
   "metadata": {},
   "source": [
    "# Restaurant Rating Prediction"
   ]
  },
  {
   "cell_type": "markdown",
   "id": "c7064377-5783-4e0c-b66e-54c3c0d90e96",
   "metadata": {},
   "source": [
    "## Model Training"
   ]
  },
  {
   "cell_type": "markdown",
   "id": "e138cb79-0ea8-479d-8621-f7ccefa47d22",
   "metadata": {},
   "source": [
    "## 1.1 Import Data and Required Packages"
   ]
  },
  {
   "cell_type": "markdown",
   "id": "9e55382d-20ce-4f88-9725-6481f8a1c3f5",
   "metadata": {},
   "source": [
    "### importing Pandas, Numpy, Matplotlib, Seaborn and Warings Library."
   ]
  },
  {
   "cell_type": "code",
   "execution_count": 49,
   "id": "cdeb7ab8-fcda-42e8-b751-cdf10d24bc17",
   "metadata": {},
   "outputs": [],
   "source": [
    "# Basic Import\n",
    "import numpy as np\n",
    "import pandas as pd\n",
    "import matplotlib.pyplot as plt \n",
    "import seaborn as sns\n",
    "\n",
    "\n",
    "\n",
    "from sklearn.compose import ColumnTransformer\n",
    "from sklearn.pipeline import Pipeline\n",
    "from sklearn.preprocessing import OneHotEncoder, StandardScaler\n",
    "\n",
    "# Modelling\n",
    "from sklearn.ensemble import RandomForestRegressor\n",
    "from sklearn.tree import DecisionTreeRegressor\n",
    "from sklearn.neighbors import KNeighborsRegressor\n",
    "from sklearn.svm import SVR\n",
    "from sklearn.linear_model import LinearRegression\n",
    "from catboost import CatBoostRegressor\n",
    "from xgboost import XGBRegressor\n",
    "\n",
    "from sklearn.metrics import r2_score, mean_absolute_error, mean_squared_error\n",
    "from sklearn.model_selection import RandomizedSearchCV\n",
    "\n",
    "import warnings"
   ]
  },
  {
   "cell_type": "markdown",
   "id": "ce23cb7e-aaf5-49ba-940e-7860d6c6fb95",
   "metadata": {},
   "source": [
    "## Import the CSV Data as Pandas DataFrame"
   ]
  },
  {
   "cell_type": "code",
   "execution_count": 50,
   "id": "7661f133-87c6-4a7c-bdf6-e484f4b97b70",
   "metadata": {},
   "outputs": [],
   "source": [
    "df = pd.read_csv('zomato.csv/zomato_cleaned_data.csv')"
   ]
  },
  {
   "cell_type": "markdown",
   "id": "a28c71e2-000a-4660-8f32-1333336a2426",
   "metadata": {},
   "source": [
    "### Show Top 5 Records"
   ]
  },
  {
   "cell_type": "code",
   "execution_count": 51,
   "id": "2b102246-8d3d-4491-ba36-cc8da9c6d7b4",
   "metadata": {},
   "outputs": [
    {
     "data": {
      "text/html": [
       "<div>\n",
       "<style scoped>\n",
       "    .dataframe tbody tr th:only-of-type {\n",
       "        vertical-align: middle;\n",
       "    }\n",
       "\n",
       "    .dataframe tbody tr th {\n",
       "        vertical-align: top;\n",
       "    }\n",
       "\n",
       "    .dataframe thead th {\n",
       "        text-align: right;\n",
       "    }\n",
       "</style>\n",
       "<table border=\"1\" class=\"dataframe\">\n",
       "  <thead>\n",
       "    <tr style=\"text-align: right;\">\n",
       "      <th></th>\n",
       "      <th>name</th>\n",
       "      <th>online_order</th>\n",
       "      <th>book_table</th>\n",
       "      <th>rate</th>\n",
       "      <th>votes</th>\n",
       "      <th>location</th>\n",
       "      <th>rest_type</th>\n",
       "      <th>cost2plates</th>\n",
       "      <th>category</th>\n",
       "      <th>grouped_cuisines</th>\n",
       "    </tr>\n",
       "  </thead>\n",
       "  <tbody>\n",
       "    <tr>\n",
       "      <th>0</th>\n",
       "      <td>jalsa</td>\n",
       "      <td>Yes</td>\n",
       "      <td>Yes</td>\n",
       "      <td>4.1</td>\n",
       "      <td>41</td>\n",
       "      <td>Banashankari</td>\n",
       "      <td>Casual Dining</td>\n",
       "      <td>800.0</td>\n",
       "      <td>Buffet</td>\n",
       "      <td>North Indian Cuisine</td>\n",
       "    </tr>\n",
       "    <tr>\n",
       "      <th>1</th>\n",
       "      <td>spice elephant</td>\n",
       "      <td>Yes</td>\n",
       "      <td>No</td>\n",
       "      <td>4.1</td>\n",
       "      <td>41</td>\n",
       "      <td>Banashankari</td>\n",
       "      <td>Casual Dining</td>\n",
       "      <td>800.0</td>\n",
       "      <td>Buffet</td>\n",
       "      <td>North Indian Cuisine</td>\n",
       "    </tr>\n",
       "    <tr>\n",
       "      <th>2</th>\n",
       "      <td>san churro cafe</td>\n",
       "      <td>Yes</td>\n",
       "      <td>No</td>\n",
       "      <td>3.8</td>\n",
       "      <td>41</td>\n",
       "      <td>Banashankari</td>\n",
       "      <td>Others</td>\n",
       "      <td>800.0</td>\n",
       "      <td>Buffet</td>\n",
       "      <td>Western Cuisine</td>\n",
       "    </tr>\n",
       "    <tr>\n",
       "      <th>3</th>\n",
       "      <td>addhuri udupi bhojana</td>\n",
       "      <td>No</td>\n",
       "      <td>No</td>\n",
       "      <td>3.7</td>\n",
       "      <td>88</td>\n",
       "      <td>Banashankari</td>\n",
       "      <td>Quick Bites</td>\n",
       "      <td>300.0</td>\n",
       "      <td>Buffet</td>\n",
       "      <td>North Indian Cuisine</td>\n",
       "    </tr>\n",
       "    <tr>\n",
       "      <th>4</th>\n",
       "      <td>grand village</td>\n",
       "      <td>No</td>\n",
       "      <td>No</td>\n",
       "      <td>3.8</td>\n",
       "      <td>166</td>\n",
       "      <td>Basavanagudi</td>\n",
       "      <td>Casual Dining</td>\n",
       "      <td>600.0</td>\n",
       "      <td>Buffet</td>\n",
       "      <td>North Indian Cuisine</td>\n",
       "    </tr>\n",
       "  </tbody>\n",
       "</table>\n",
       "</div>"
      ],
      "text/plain": [
       "                    name online_order book_table  rate  votes      location  \\\n",
       "0                  jalsa          Yes        Yes   4.1     41  Banashankari   \n",
       "1         spice elephant          Yes         No   4.1     41  Banashankari   \n",
       "2        san churro cafe          Yes         No   3.8     41  Banashankari   \n",
       "3  addhuri udupi bhojana           No         No   3.7     88  Banashankari   \n",
       "4          grand village           No         No   3.8    166  Basavanagudi   \n",
       "\n",
       "       rest_type  cost2plates category      grouped_cuisines  \n",
       "0  Casual Dining        800.0   Buffet  North Indian Cuisine  \n",
       "1  Casual Dining        800.0   Buffet  North Indian Cuisine  \n",
       "2         Others        800.0   Buffet       Western Cuisine  \n",
       "3    Quick Bites        300.0   Buffet  North Indian Cuisine  \n",
       "4  Casual Dining        600.0   Buffet  North Indian Cuisine  "
      ]
     },
     "execution_count": 51,
     "metadata": {},
     "output_type": "execute_result"
    }
   ],
   "source": [
    "df.head()"
   ]
  },
  {
   "cell_type": "code",
   "execution_count": 37,
   "id": "48057938-2cef-42b9-8343-c07d35e7a104",
   "metadata": {},
   "outputs": [
    {
     "name": "stdout",
     "output_type": "stream",
     "text": [
      "<class 'pandas.core.frame.DataFrame'>\n",
      "RangeIndex: 51717 entries, 0 to 51716\n",
      "Data columns (total 10 columns):\n",
      " #   Column            Non-Null Count  Dtype  \n",
      "---  ------            --------------  -----  \n",
      " 0   name              51717 non-null  object \n",
      " 1   online_order      51717 non-null  object \n",
      " 2   book_table        51717 non-null  object \n",
      " 3   rate              51717 non-null  float64\n",
      " 4   votes             51717 non-null  int64  \n",
      " 5   location          51717 non-null  object \n",
      " 6   rest_type         51717 non-null  object \n",
      " 7   cost2plates       51717 non-null  float64\n",
      " 8   category          51717 non-null  object \n",
      " 9   grouped_cuisines  51717 non-null  object \n",
      "dtypes: float64(2), int64(1), object(7)\n",
      "memory usage: 3.9+ MB\n"
     ]
    }
   ],
   "source": [
    "df.info()"
   ]
  },
  {
   "cell_type": "markdown",
   "id": "8b8f97d5-1d50-4428-b687-e571c7ab0ce1",
   "metadata": {},
   "source": [
    "## Preparing X and Y variables"
   ]
  },
  {
   "cell_type": "code",
   "execution_count": 52,
   "id": "62dd2ce0-258b-49f0-b185-4eeae20ad6ed",
   "metadata": {
    "scrolled": true
   },
   "outputs": [
    {
     "data": {
      "text/plain": [
       "0    4.1\n",
       "1    4.1\n",
       "2    3.8\n",
       "3    3.7\n",
       "4    3.8\n",
       "Name: rate, dtype: float64"
      ]
     },
     "execution_count": 52,
     "metadata": {},
     "output_type": "execute_result"
    }
   ],
   "source": [
    "X = df.drop(['rate'], axis = 1)\n",
    "y = df['rate']\n",
    "\n",
    "y.head()"
   ]
  },
  {
   "cell_type": "markdown",
   "id": "64a1f2f9-5103-4571-98d9-e61544bffead",
   "metadata": {},
   "source": [
    "## Train Test Split"
   ]
  },
  {
   "cell_type": "code",
   "execution_count": 53,
   "id": "0de88709-a29e-4b1e-898a-9faa2dcfd1b7",
   "metadata": {},
   "outputs": [
    {
     "name": "stdout",
     "output_type": "stream",
     "text": [
      "(41373, 9) (10344, 9)\n"
     ]
    }
   ],
   "source": [
    "# separate dataset into train and test\n",
    "X_train_df, X_test_df, y_train, y_test = train_test_split(X,y,test_size=0.2,random_state=42)\n",
    "print(X_train_df.shape, X_test_df.shape)\n"
   ]
  },
  {
   "cell_type": "markdown",
   "id": "c58846d0-8f70-4a14-a01d-afcf3476ebcc",
   "metadata": {},
   "source": [
    "## Feature Scaling with StandardScaler"
   ]
  },
  {
   "cell_type": "code",
   "execution_count": 54,
   "id": "9ea3fc88-dabf-42ab-be07-71559157936f",
   "metadata": {},
   "outputs": [],
   "source": [
    "numerical_columns = [\"votes\", \"cost2plates\"]\n",
    "categorical_columns = [\"name\", \"location\",\"category\", \"rest_type\",\"online_order\", \"book_table\", \"grouped_cuisines\", ]\n",
    "\n",
    "# Numerical pipeline (Standard Scaler)\n",
    "num_pipeline = Pipeline(steps=[(\"scaler\", StandardScaler())])\n",
    "\n",
    "# Categorical pipeline (One Hot Encoder and Standard Scaler)\n",
    "cat_pipeline = Pipeline(steps=[\n",
    "(\"one_hot_encoder\", OneHotEncoder(handle_unknown='ignore')),\n",
    "(\"scaler\", StandardScaler(with_mean=False))\n",
    "])\n",
    "\n",
    "\n",
    "# Column transformer applying the pipelines\n",
    "preprocessor = ColumnTransformer(\n",
    "transformers=[(\"num_pipeline\", num_pipeline, numerical_columns),\n",
    "              (\"cat_pipeline\", cat_pipeline, categorical_columns)\n",
    "                ])"
   ]
  },
  {
   "cell_type": "code",
   "execution_count": 55,
   "id": "d883c747-e9d3-4bed-83ed-1488d87386b8",
   "metadata": {},
   "outputs": [
    {
     "data": {
      "text/plain": [
       "<10344x8531 sparse matrix of type '<class 'numpy.float64'>'\n",
       "\twith 92696 stored elements in Compressed Sparse Row format>"
      ]
     },
     "execution_count": 55,
     "metadata": {},
     "output_type": "execute_result"
    }
   ],
   "source": [
    "\n",
    "X_train = preprocessor.fit_transform(X_train_df)\n",
    "X_test = preprocessor.transform(X_test_df)\n",
    "\n",
    "X_test"
   ]
  },
  {
   "cell_type": "markdown",
   "id": "1a65f3f3-ade4-4ed7-8521-4f84554a8e3a",
   "metadata": {},
   "source": [
    "## Create an Evaluate Function to give all metrics after model Training"
   ]
  },
  {
   "cell_type": "code",
   "execution_count": 56,
   "id": "175157a4-e8a1-4241-b4e0-d0588b7a4bb6",
   "metadata": {},
   "outputs": [],
   "source": [
    "def evaluate_model(true, predicted):\n",
    "    mae = mean_absolute_error(true, predicted)\n",
    "    mse = mean_squared_error(true, predicted)\n",
    "    rmse = np.sqrt(mean_squared_error(true, predicted))\n",
    "    r2_square = r2_score(true, predicted)\n",
    "    return mae, rmse, r2_square"
   ]
  },
  {
   "cell_type": "code",
   "execution_count": 57,
   "id": "187fc3b0-e8ef-4742-ae6f-dda4c18f9360",
   "metadata": {},
   "outputs": [
    {
     "name": "stdout",
     "output_type": "stream",
     "text": [
      "Random Forest Regressor\n",
      "Model performance for Training set\n",
      "- Root Mean Squared Error: 0.0381\n",
      "- Mean Absolute Error: 0.0144\n",
      "- R2 Score: 0.9907\n",
      "----------------------------------\n",
      "Model performance for Test set\n",
      "- Root Mean Squared Error: 0.0919\n",
      "- Mean Absolute Error: 0.0346\n",
      "- R2 Score: 0.9459\n",
      "===================================\n",
      "\n",
      "\n",
      "Decision Tree\n",
      "Model performance for Training set\n",
      "- Root Mean Squared Error: 0.0139\n",
      "- Mean Absolute Error: 0.0024\n",
      "- R2 Score: 0.9988\n",
      "----------------------------------\n",
      "Model performance for Test set\n",
      "- Root Mean Squared Error: 0.0952\n",
      "- Mean Absolute Error: 0.0225\n",
      "- R2 Score: 0.9419\n",
      "===================================\n",
      "\n",
      "\n",
      "K-Neighbors Regressor\n",
      "Model performance for Training set\n",
      "- Root Mean Squared Error: 0.1424\n",
      "- Mean Absolute Error: 0.0756\n",
      "- R2 Score: 0.8703\n",
      "----------------------------------\n",
      "Model performance for Test set\n",
      "- Root Mean Squared Error: 0.1903\n",
      "- Mean Absolute Error: 0.1084\n",
      "- R2 Score: 0.7679\n",
      "===================================\n",
      "\n",
      "\n",
      "The best model is: Random Forest Regressor with R2 score of 0.9459\n",
      "Predictions of the best model:\n",
      "[3.9   2.8   3.786 ... 3.1   3.7   3.305]\n"
     ]
    }
   ],
   "source": [
    "models = {\n",
    "    \"Random Forest Regressor\": RandomForestRegressor(),\n",
    "    \"Decision Tree\": DecisionTreeRegressor(),\n",
    "    \"K-Neighbors Regressor\": KNeighborsRegressor(),\n",
    "}\n",
    "\n",
    "model_list = []\n",
    "r2_list = []\n",
    "best_model_name = None\n",
    "best_model_r2 = -float('inf')\n",
    "best_model_pred = None\n",
    "\n",
    "for i in range(len(list(models))):\n",
    "    model = list(models.values())[i]\n",
    "    model.fit(X_train, y_train)  # Train model\n",
    "\n",
    "    # Make predictions\n",
    "    y_train_pred = model.predict(X_train)\n",
    "    y_test_pred = model.predict(X_test)\n",
    "\n",
    "    # Evaluate Train and Test dataset\n",
    "    model_train_mae, model_train_rmse, model_train_r2 = evaluate_model(y_train, y_train_pred)\n",
    "    model_test_mae, model_test_rmse, model_test_r2 = evaluate_model(y_test, y_test_pred)\n",
    "\n",
    "    print(list(models.keys())[i])\n",
    "    model_list.append(list(models.keys())[i])\n",
    "\n",
    "    print('Model performance for Training set')\n",
    "    print(\"- Root Mean Squared Error: {:.4f}\".format(model_train_rmse))\n",
    "    print(\"- Mean Absolute Error: {:.4f}\".format(model_train_mae))\n",
    "    print(\"- R2 Score: {:.4f}\".format(model_train_r2))\n",
    "\n",
    "    print('----------------------------------')\n",
    "\n",
    "    print('Model performance for Test set')\n",
    "    print(\"- Root Mean Squared Error: {:.4f}\".format(model_test_rmse))\n",
    "    print(\"- Mean Absolute Error: {:.4f}\".format(model_test_mae))\n",
    "    print(\"- R2 Score: {:.4f}\".format(model_test_r2))\n",
    "    r2_list.append(model_test_r2)\n",
    "\n",
    "    # Track the best model based on R2 score\n",
    "    if model_test_r2 > best_model_r2:\n",
    "        best_model_r2 = model_test_r2\n",
    "        best_model_name = list(models.keys())[i]\n",
    "        best_model_pred = y_test_pred\n",
    "\n",
    "    print('=' * 35)\n",
    "    print('\\n')\n",
    "\n",
    "print(f\"The best model is: {best_model_name} with R2 score of {best_model_r2:.4f}\")\n",
    "print(\"Predictions of the best model:\")\n",
    "print(best_model_pred)\n"
   ]
  },
  {
   "cell_type": "markdown",
   "id": "73976764-a28d-4b2e-83fd-b3d22617a0b7",
   "metadata": {},
   "source": [
    "## Results"
   ]
  },
  {
   "cell_type": "code",
   "execution_count": 58,
   "id": "39176684-ce9e-4afc-b90b-83dfebe018ed",
   "metadata": {},
   "outputs": [
    {
     "data": {
      "text/html": [
       "<div>\n",
       "<style scoped>\n",
       "    .dataframe tbody tr th:only-of-type {\n",
       "        vertical-align: middle;\n",
       "    }\n",
       "\n",
       "    .dataframe tbody tr th {\n",
       "        vertical-align: top;\n",
       "    }\n",
       "\n",
       "    .dataframe thead th {\n",
       "        text-align: right;\n",
       "    }\n",
       "</style>\n",
       "<table border=\"1\" class=\"dataframe\">\n",
       "  <thead>\n",
       "    <tr style=\"text-align: right;\">\n",
       "      <th></th>\n",
       "      <th>Model Name</th>\n",
       "      <th>R2_Score</th>\n",
       "    </tr>\n",
       "  </thead>\n",
       "  <tbody>\n",
       "    <tr>\n",
       "      <th>0</th>\n",
       "      <td>Random Forest Regressor</td>\n",
       "      <td>0.945870</td>\n",
       "    </tr>\n",
       "    <tr>\n",
       "      <th>1</th>\n",
       "      <td>Decision Tree</td>\n",
       "      <td>0.941913</td>\n",
       "    </tr>\n",
       "    <tr>\n",
       "      <th>2</th>\n",
       "      <td>K-Neighbors Regressor</td>\n",
       "      <td>0.767900</td>\n",
       "    </tr>\n",
       "  </tbody>\n",
       "</table>\n",
       "</div>"
      ],
      "text/plain": [
       "                Model Name  R2_Score\n",
       "0  Random Forest Regressor  0.945870\n",
       "1            Decision Tree  0.941913\n",
       "2    K-Neighbors Regressor  0.767900"
      ]
     },
     "execution_count": 58,
     "metadata": {},
     "output_type": "execute_result"
    }
   ],
   "source": [
    "pd.DataFrame(list(zip(model_list, r2_list)), columns=['Model Name', 'R2_Score']).sort_values(by=[\"R2_Score\"],ascending=False)"
   ]
  },
  {
   "cell_type": "markdown",
   "id": "3cb5c256-1c27-4e9c-ad88-e6a6f83195bb",
   "metadata": {},
   "source": [
    "## Plot y_pred and best_model_pred"
   ]
  },
  {
   "cell_type": "code",
   "execution_count": 59,
   "id": "23997ff6-d22b-4f0f-bd2c-a3a4508f8142",
   "metadata": {},
   "outputs": [
    {
     "data": {
      "image/png": "[encoded data removed]",
      "text/plain": [
       "<Figure size 640x480 with 1 Axes>"
      ]
     },
     "metadata": {},
     "output_type": "display_data"
    }
   ],
   "source": [
    "plt.scatter(y_test,best_model_pred);\n",
    "plt.xlabel('Actual');\n",
    "plt.ylabel('Predicted');"
   ]
  },
  {
   "cell_type": "code",
   "execution_count": 60,
   "id": "c2ce8ad3-abb9-454d-8e76-4ad8d5d05cee",
   "metadata": {},
   "outputs": [
    {
     "data": {
      "image/png": "[encoded data removed]",
      "text/plain": [
       "<Figure size 640x480 with 1 Axes>"
      ]
     },
     "metadata": {},
     "output_type": "display_data"
    }
   ],
   "source": [
    "sns.regplot(x=y_test, y=best_model_pred, ci=None, color ='red');"
   ]
  },
  {
   "cell_type": "markdown",
   "id": "41301885-45d4-4afb-b994-361d48a2c96a",
   "metadata": {},
   "source": [
    "## Difference between Actual and Predicted Values"
   ]
  },
  {
   "cell_type": "code",
   "execution_count": 91,
   "id": "8aead1b7-ef6b-422a-88ae-630cf8d6cbf2",
   "metadata": {},
   "outputs": [
    {
     "data": {
      "text/html": [
       "<div>\n",
       "<style scoped>\n",
       "    .dataframe tbody tr th:only-of-type {\n",
       "        vertical-align: middle;\n",
       "    }\n",
       "\n",
       "    .dataframe tbody tr th {\n",
       "        vertical-align: top;\n",
       "    }\n",
       "\n",
       "    .dataframe thead th {\n",
       "        text-align: right;\n",
       "    }\n",
       "</style>\n",
       "<table border=\"1\" class=\"dataframe\">\n",
       "  <thead>\n",
       "    <tr style=\"text-align: right;\">\n",
       "      <th></th>\n",
       "      <th>Actual Value</th>\n",
       "      <th>Predicted Value</th>\n",
       "      <th>Difference</th>\n",
       "      <th>Index</th>\n",
       "    </tr>\n",
       "  </thead>\n",
       "  <tbody>\n",
       "    <tr>\n",
       "      <th>38581</th>\n",
       "      <td>4.6</td>\n",
       "      <td>4.600000</td>\n",
       "      <td>-7.993606e-15</td>\n",
       "      <td>134</td>\n",
       "    </tr>\n",
       "    <tr>\n",
       "      <th>37542</th>\n",
       "      <td>4.6</td>\n",
       "      <td>4.600000</td>\n",
       "      <td>-7.993606e-15</td>\n",
       "      <td>268</td>\n",
       "    </tr>\n",
       "    <tr>\n",
       "      <th>16974</th>\n",
       "      <td>4.6</td>\n",
       "      <td>4.163000</td>\n",
       "      <td>4.370000e-01</td>\n",
       "      <td>314</td>\n",
       "    </tr>\n",
       "    <tr>\n",
       "      <th>44712</th>\n",
       "      <td>4.6</td>\n",
       "      <td>4.677067</td>\n",
       "      <td>-7.706667e-02</td>\n",
       "      <td>320</td>\n",
       "    </tr>\n",
       "    <tr>\n",
       "      <th>31068</th>\n",
       "      <td>4.7</td>\n",
       "      <td>4.730586</td>\n",
       "      <td>-3.058571e-02</td>\n",
       "      <td>373</td>\n",
       "    </tr>\n",
       "    <tr>\n",
       "      <th>...</th>\n",
       "      <td>...</td>\n",
       "      <td>...</td>\n",
       "      <td>...</td>\n",
       "      <td>...</td>\n",
       "    </tr>\n",
       "    <tr>\n",
       "      <th>19308</th>\n",
       "      <td>4.7</td>\n",
       "      <td>4.627283</td>\n",
       "      <td>7.271667e-02</td>\n",
       "      <td>9401</td>\n",
       "    </tr>\n",
       "    <tr>\n",
       "      <th>32657</th>\n",
       "      <td>4.8</td>\n",
       "      <td>4.800000</td>\n",
       "      <td>-7.993606e-15</td>\n",
       "      <td>9529</td>\n",
       "    </tr>\n",
       "    <tr>\n",
       "      <th>10284</th>\n",
       "      <td>4.9</td>\n",
       "      <td>4.800000</td>\n",
       "      <td>1.000000e-01</td>\n",
       "      <td>9965</td>\n",
       "    </tr>\n",
       "    <tr>\n",
       "      <th>38614</th>\n",
       "      <td>4.6</td>\n",
       "      <td>4.628725</td>\n",
       "      <td>-2.872500e-02</td>\n",
       "      <td>10008</td>\n",
       "    </tr>\n",
       "    <tr>\n",
       "      <th>9935</th>\n",
       "      <td>4.8</td>\n",
       "      <td>4.722980</td>\n",
       "      <td>7.701984e-02</td>\n",
       "      <td>10220</td>\n",
       "    </tr>\n",
       "  </tbody>\n",
       "</table>\n",
       "<p>125 rows × 4 columns</p>\n",
       "</div>"
      ],
      "text/plain": [
       "       Actual Value  Predicted Value    Difference  Index\n",
       "38581           4.6         4.600000 -7.993606e-15    134\n",
       "37542           4.6         4.600000 -7.993606e-15    268\n",
       "16974           4.6         4.163000  4.370000e-01    314\n",
       "44712           4.6         4.677067 -7.706667e-02    320\n",
       "31068           4.7         4.730586 -3.058571e-02    373\n",
       "...             ...              ...           ...    ...\n",
       "19308           4.7         4.627283  7.271667e-02   9401\n",
       "32657           4.8         4.800000 -7.993606e-15   9529\n",
       "10284           4.9         4.800000  1.000000e-01   9965\n",
       "38614           4.6         4.628725 -2.872500e-02  10008\n",
       "9935            4.8         4.722980  7.701984e-02  10220\n",
       "\n",
       "[125 rows x 4 columns]"
      ]
     },
     "execution_count": 91,
     "metadata": {},
     "output_type": "execute_result"
    }
   ],
   "source": [
    "pred_df=pd.DataFrame({'Actual Value':y_test, 'Predicted Value':best_model_pred, 'Difference':y_test-best_model_pred})\n",
    "pred_df['Index'] = range(0, len(pred_df))\n",
    "#pred_df.sample(20)\n",
    "pred_df[pred_df['Actual Value'] > 4.5]"
   ]
  },
  {
   "cell_type": "code",
   "execution_count": 92,
   "id": "749d2a40-df70-4070-a372-9eaa53dcc493",
   "metadata": {},
   "outputs": [
    {
     "name": "stdout",
     "output_type": "stream",
     "text": [
      "The prediction for the given row is: 4.80\n"
     ]
    }
   ],
   "source": [
    "# Select the row and ensure it's a 2D array\n",
    "table_row = X_test_df.iloc[[9965]]  # Use double brackets to maintain it as a DataFrame\n",
    "\n",
    "# Preprocess the row\n",
    "preprocessed_row = preprocessor.transform(table_row)  \n",
    "\n",
    "# Use the best model for prediction\n",
    "prediction = models[best_model_name].predict(preprocessed_row)\n",
    "\n",
    "print(f\"The prediction for the given row is: {prediction[0]:.2f}\")\n"
   ]
  },
  {
   "cell_type": "code",
   "execution_count": null,
   "id": "2e825e59-cb13-4ffe-9ee3-4043c02ab976",
   "metadata": {},
   "outputs": [],
   "source": []
  }
 ],
 "metadata": {
  "kernelspec": {
   "display_name": "Python 3 (ipykernel)",
   "language": "python",
   "name": "python3"
  },
  "language_info": {
   "codemirror_mode": {
    "name": "ipython",
    "version": 3
   },
   "file_extension": ".py",
   "mimetype": "text/x-python",
   "name": "python",
   "nbconvert_exporter": "python",
   "pygments_lexer": "ipython3",
   "version": "3.12.7"
  }
 },
 "nbformat": 4,
 "nbformat_minor": 5
}
