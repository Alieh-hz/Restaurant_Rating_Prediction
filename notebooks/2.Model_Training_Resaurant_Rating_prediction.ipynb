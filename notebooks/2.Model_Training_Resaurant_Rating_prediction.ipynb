{
 "cells": [
  {
   "cell_type": "markdown",
   "id": "a9f7f347-d142-4528-9996-6610aad62da2",
   "metadata": {},
   "source": [
    "# Restaurant Rating Prediction"
   ]
  },
  {
   "cell_type": "markdown",
   "id": "c7064377-5783-4e0c-b66e-54c3c0d90e96",
   "metadata": {},
   "source": [
    "## Model Training"
   ]
  },
  {
   "cell_type": "markdown",
   "id": "768c5b40-4f8c-411e-84e1-687c2d5d0dc1",
   "metadata": {},
   "source": [
    "## 1) Problem statement\n",
    "\n",
    "The main goal of this project is to perform extensive Exploratory Data Analysis(EDA) on the Zomato Dataset and build an appropriate Machine Learning Model that will help various Zomato Restaurants to predict their respective Ratings based on certain features."
   ]
  },
  {
   "cell_type": "markdown",
   "id": "83701f90-9d66-468a-9498-e2e6ac0b65c4",
   "metadata": {},
   "source": [
    "## 2) Data Collection"
   ]
  },
  {
   "cell_type": "markdown",
   "id": "e138cb79-0ea8-479d-8621-f7ccefa47d22",
   "metadata": {},
   "source": [
    "### 2.1) Import Data and Required Packages"
   ]
  },
  {
   "cell_type": "markdown",
   "id": "9e55382d-20ce-4f88-9725-6481f8a1c3f5",
   "metadata": {},
   "source": [
    "#### importing Pandas, Numpy, Matplotlib, Seaborn and Warings Library."
   ]
  },
  {
   "cell_type": "code",
   "execution_count": 4,
   "id": "cdeb7ab8-fcda-42e8-b751-cdf10d24bc17",
   "metadata": {},
   "outputs": [],
   "source": [
    "# Basic Import\n",
    "import numpy as np\n",
    "import pandas as pd\n",
    "import matplotlib.pyplot as plt \n",
    "import seaborn as sns\n",
    "\n",
    "\n",
    "from sklearn.compose import ColumnTransformer\n",
    "from sklearn.pipeline import Pipeline\n",
    "from sklearn.preprocessing import OneHotEncoder, StandardScaler\n",
    "from sklearn.model_selection import train_test_split\n",
    "\n",
    "# Modelling\n",
    "from sklearn.ensemble import RandomForestRegressor\n",
    "from sklearn.tree import DecisionTreeRegressor\n",
    "from sklearn.neighbors import KNeighborsRegressor\n",
    "\n",
    "\n",
    "from sklearn.metrics import r2_score, mean_squared_error, mean_absolute_error\n",
    "\n",
    "import warnings"
   ]
  },
  {
   "cell_type": "markdown",
   "id": "ce23cb7e-aaf5-49ba-940e-7860d6c6fb95",
   "metadata": {},
   "source": [
    "### 2.2)Import the CSV Data as Pandas DataFrame"
   ]
  },
  {
   "cell_type": "code",
   "execution_count": 5,
   "id": "7661f133-87c6-4a7c-bdf6-e484f4b97b70",
   "metadata": {},
   "outputs": [],
   "source": [
    "df = pd.read_csv('zomato.csv/zomato_cleaned_data.csv')"
   ]
  },
  {
   "cell_type": "markdown",
   "id": "826ff452-8c79-473b-9a66-a762d9014727",
   "metadata": {},
   "source": [
    "## 3) Dataset information"
   ]
  },
  {
   "cell_type": "markdown",
   "id": "a28c71e2-000a-4660-8f32-1333336a2426",
   "metadata": {},
   "source": [
    "### 3.1) Show Top 5 Records"
   ]
  },
  {
   "cell_type": "code",
   "execution_count": 6,
   "id": "2b102246-8d3d-4491-ba36-cc8da9c6d7b4",
   "metadata": {},
   "outputs": [
    {
     "data": {
      "text/html": [
       "<div>\n",
       "<style scoped>\n",
       "    .dataframe tbody tr th:only-of-type {\n",
       "        vertical-align: middle;\n",
       "    }\n",
       "\n",
       "    .dataframe tbody tr th {\n",
       "        vertical-align: top;\n",
       "    }\n",
       "\n",
       "    .dataframe thead th {\n",
       "        text-align: right;\n",
       "    }\n",
       "</style>\n",
       "<table border=\"1\" class=\"dataframe\">\n",
       "  <thead>\n",
       "    <tr style=\"text-align: right;\">\n",
       "      <th></th>\n",
       "      <th>name</th>\n",
       "      <th>online_order</th>\n",
       "      <th>book_table</th>\n",
       "      <th>rate</th>\n",
       "      <th>votes</th>\n",
       "      <th>location</th>\n",
       "      <th>rest_type</th>\n",
       "      <th>cost2plates</th>\n",
       "      <th>category</th>\n",
       "      <th>grouped_cuisines</th>\n",
       "    </tr>\n",
       "  </thead>\n",
       "  <tbody>\n",
       "    <tr>\n",
       "      <th>0</th>\n",
       "      <td>jalsa</td>\n",
       "      <td>Yes</td>\n",
       "      <td>Yes</td>\n",
       "      <td>4.1</td>\n",
       "      <td>41</td>\n",
       "      <td>Banashankari</td>\n",
       "      <td>Casual Dining</td>\n",
       "      <td>800.0</td>\n",
       "      <td>Buffet</td>\n",
       "      <td>North Indian Cuisine</td>\n",
       "    </tr>\n",
       "    <tr>\n",
       "      <th>1</th>\n",
       "      <td>spice elephant</td>\n",
       "      <td>Yes</td>\n",
       "      <td>No</td>\n",
       "      <td>4.1</td>\n",
       "      <td>41</td>\n",
       "      <td>Banashankari</td>\n",
       "      <td>Casual Dining</td>\n",
       "      <td>800.0</td>\n",
       "      <td>Buffet</td>\n",
       "      <td>North Indian Cuisine</td>\n",
       "    </tr>\n",
       "    <tr>\n",
       "      <th>2</th>\n",
       "      <td>san churro cafe</td>\n",
       "      <td>Yes</td>\n",
       "      <td>No</td>\n",
       "      <td>3.8</td>\n",
       "      <td>41</td>\n",
       "      <td>Banashankari</td>\n",
       "      <td>Others</td>\n",
       "      <td>800.0</td>\n",
       "      <td>Buffet</td>\n",
       "      <td>Western Cuisine</td>\n",
       "    </tr>\n",
       "    <tr>\n",
       "      <th>3</th>\n",
       "      <td>others</td>\n",
       "      <td>No</td>\n",
       "      <td>No</td>\n",
       "      <td>3.7</td>\n",
       "      <td>88</td>\n",
       "      <td>Banashankari</td>\n",
       "      <td>Quick Bites</td>\n",
       "      <td>300.0</td>\n",
       "      <td>Buffet</td>\n",
       "      <td>North Indian Cuisine</td>\n",
       "    </tr>\n",
       "    <tr>\n",
       "      <th>4</th>\n",
       "      <td>grand village</td>\n",
       "      <td>No</td>\n",
       "      <td>No</td>\n",
       "      <td>3.8</td>\n",
       "      <td>166</td>\n",
       "      <td>Basavanagudi</td>\n",
       "      <td>Casual Dining</td>\n",
       "      <td>600.0</td>\n",
       "      <td>Buffet</td>\n",
       "      <td>North Indian Cuisine</td>\n",
       "    </tr>\n",
       "  </tbody>\n",
       "</table>\n",
       "</div>"
      ],
      "text/plain": [
       "              name online_order book_table  rate  votes      location  \\\n",
       "0            jalsa          Yes        Yes   4.1     41  Banashankari   \n",
       "1   spice elephant          Yes         No   4.1     41  Banashankari   \n",
       "2  san churro cafe          Yes         No   3.8     41  Banashankari   \n",
       "3           others           No         No   3.7     88  Banashankari   \n",
       "4    grand village           No         No   3.8    166  Basavanagudi   \n",
       "\n",
       "       rest_type  cost2plates category      grouped_cuisines  \n",
       "0  Casual Dining        800.0   Buffet  North Indian Cuisine  \n",
       "1  Casual Dining        800.0   Buffet  North Indian Cuisine  \n",
       "2         Others        800.0   Buffet       Western Cuisine  \n",
       "3    Quick Bites        300.0   Buffet  North Indian Cuisine  \n",
       "4  Casual Dining        600.0   Buffet  North Indian Cuisine  "
      ]
     },
     "execution_count": 6,
     "metadata": {},
     "output_type": "execute_result"
    }
   ],
   "source": [
    "df.head()"
   ]
  },
  {
   "cell_type": "markdown",
   "id": "fba1b6cb-3b92-4245-8329-5051f0a9e69f",
   "metadata": {},
   "source": [
    "### 3.2) Number of Restaurants with Ratings ≤ 3.0"
   ]
  },
  {
   "cell_type": "code",
   "execution_count": 7,
   "id": "06948ed0-c401-45ef-b745-4884cf41a05e",
   "metadata": {},
   "outputs": [
    {
     "data": {
      "text/plain": [
       "2257"
      ]
     },
     "execution_count": 7,
     "metadata": {},
     "output_type": "execute_result"
    }
   ],
   "source": [
    "df[df['rate'] < 3.0].shape[0]\n"
   ]
  },
  {
   "cell_type": "markdown",
   "id": "ed08ccdc-9a59-4427-b39d-9fe5a00da45d",
   "metadata": {},
   "source": [
    "#### Insight:\n",
    "The dataset appears to be imbalanced, with only 4.36% (2,257 out of 51,717) of restaurants having a rating of 3.0 or below. This imbalance could affect model training, as the model might struggle to learn patterns for low-rated restaurants"
   ]
  },
  {
   "cell_type": "markdown",
   "id": "8b8f97d5-1d50-4428-b687-e571c7ab0ce1",
   "metadata": {},
   "source": [
    "## 4) Preparing X and Y variables"
   ]
  },
  {
   "cell_type": "code",
   "execution_count": 8,
   "id": "62dd2ce0-258b-49f0-b185-4eeae20ad6ed",
   "metadata": {
    "scrolled": true
   },
   "outputs": [],
   "source": [
    "X = df.drop(['rate'], axis = 1)\n",
    "y = df['rate']"
   ]
  },
  {
   "cell_type": "markdown",
   "id": "64a1f2f9-5103-4571-98d9-e61544bffead",
   "metadata": {},
   "source": [
    "## 5) Train Test Split"
   ]
  },
  {
   "cell_type": "code",
   "execution_count": 9,
   "id": "0de88709-a29e-4b1e-898a-9faa2dcfd1b7",
   "metadata": {},
   "outputs": [
    {
     "name": "stdout",
     "output_type": "stream",
     "text": [
      "(41373, 9) (10344, 9)\n"
     ]
    }
   ],
   "source": [
    "# separate dataset into train and test\n",
    "X_train_df, X_test_df, y_train, y_test = train_test_split(X,y,test_size=0.2,random_state=42)\n",
    "print(X_train_df.shape, X_test_df.shape)"
   ]
  },
  {
   "cell_type": "markdown",
   "id": "c58846d0-8f70-4a14-a01d-afcf3476ebcc",
   "metadata": {},
   "source": [
    "## 6) Feature Scaling with StandardScaler"
   ]
  },
  {
   "cell_type": "code",
   "execution_count": 10,
   "id": "9ea3fc88-dabf-42ab-be07-71559157936f",
   "metadata": {},
   "outputs": [],
   "source": [
    "numerical_columns = [\"votes\", \"cost2plates\"]\n",
    "categorical_columns = [\"name\", \"location\",\"category\", \"rest_type\",\"online_order\", \"book_table\", \"grouped_cuisines\", ]\n",
    "\n",
    "# Numerical pipeline (Standard Scaler)\n",
    "num_pipeline = Pipeline(steps=[(\"scaler\", StandardScaler())])\n",
    "\n",
    "# Categorical pipeline (One Hot Encoder and Standard Scaler)\n",
    "cat_pipeline = Pipeline(steps=[\n",
    "(\"one_hot_encoder\", OneHotEncoder(handle_unknown='ignore')),\n",
    "(\"scaler\", StandardScaler(with_mean=False))\n",
    "])\n",
    "\n",
    "\n",
    "# Column transformer applying the pipelines\n",
    "preprocessor = ColumnTransformer(\n",
    "transformers=[(\"num_pipeline\", num_pipeline, numerical_columns),\n",
    "              (\"cat_pipeline\", cat_pipeline, categorical_columns)\n",
    "                ])"
   ]
  },
  {
   "cell_type": "code",
   "execution_count": 11,
   "id": "d883c747-e9d3-4bed-83ed-1488d87386b8",
   "metadata": {},
   "outputs": [
    {
     "data": {
      "text/plain": [
       "<10344x5040 sparse matrix of type '<class 'numpy.float64'>'\n",
       "\twith 93092 stored elements in Compressed Sparse Row format>"
      ]
     },
     "execution_count": 11,
     "metadata": {},
     "output_type": "execute_result"
    }
   ],
   "source": [
    "\n",
    "X_train = preprocessor.fit_transform(X_train_df)\n",
    "X_test = preprocessor.transform(X_test_df)\n",
    "\n",
    "X_test"
   ]
  },
  {
   "cell_type": "markdown",
   "id": "1a65f3f3-ade4-4ed7-8521-4f84554a8e3a",
   "metadata": {},
   "source": [
    "## 7) Create an Evaluate Function to give all metrics after model Training"
   ]
  },
  {
   "cell_type": "code",
   "execution_count": 12,
   "id": "175157a4-e8a1-4241-b4e0-d0588b7a4bb6",
   "metadata": {},
   "outputs": [],
   "source": [
    "def evaluate_model(true, predicted):\n",
    "    mae = mean_absolute_error(true, predicted)\n",
    "    mse = mean_squared_error(true, predicted)\n",
    "    rmse = np.sqrt(mean_squared_error(true, predicted))\n",
    "    r2_square = r2_score(true, predicted)\n",
    "    return mae, rmse, r2_square"
   ]
  },
  {
   "cell_type": "code",
   "execution_count": 13,
   "id": "187fc3b0-e8ef-4742-ae6f-dda4c18f9360",
   "metadata": {},
   "outputs": [
    {
     "name": "stdout",
     "output_type": "stream",
     "text": [
      "Random Forest Regressor\n",
      "Model performance for Training set\n",
      "- Root Mean Squared Error: 0.0394\n",
      "- Mean Absolute Error: 0.0152\n",
      "- R2 Score: 0.9901\n",
      "----------------------------------\n",
      "Model performance for Test set\n",
      "- Root Mean Squared Error: 0.0955\n",
      "- Mean Absolute Error: 0.0366\n",
      "- R2 Score: 0.9416\n",
      "===================================\n",
      "\n",
      "\n",
      "Decision Tree\n",
      "Model performance for Training set\n",
      "- Root Mean Squared Error: 0.0152\n",
      "- Mean Absolute Error: 0.0025\n",
      "- R2 Score: 0.9985\n",
      "----------------------------------\n",
      "Model performance for Test set\n",
      "- Root Mean Squared Error: 0.1035\n",
      "- Mean Absolute Error: 0.0247\n",
      "- R2 Score: 0.9314\n",
      "===================================\n",
      "\n",
      "\n",
      "K-Neighbors Regressor\n",
      "Model performance for Training set\n",
      "- Root Mean Squared Error: 0.1320\n",
      "- Mean Absolute Error: 0.0668\n",
      "- R2 Score: 0.8885\n",
      "----------------------------------\n",
      "Model performance for Test set\n",
      "- Root Mean Squared Error: 0.1783\n",
      "- Mean Absolute Error: 0.0975\n",
      "- R2 Score: 0.7962\n",
      "===================================\n",
      "\n",
      "\n",
      "The best model is: Random Forest Regressor with R2 score of 0.9416\n",
      "Predictions of the best model:\n",
      "[3.901 2.8   3.792 ... 3.1   3.7   3.309]\n"
     ]
    }
   ],
   "source": [
    "models = {\n",
    "    \"Random Forest Regressor\": RandomForestRegressor(),\n",
    "    \"Decision Tree\": DecisionTreeRegressor(),\n",
    "    \"K-Neighbors Regressor\": KNeighborsRegressor(),\n",
    "}\n",
    "\n",
    "model_list = []\n",
    "r2_list = []\n",
    "best_model_name = None\n",
    "best_model_r2 = -float('inf')\n",
    "best_model_pred = None\n",
    "\n",
    "for i in range(len(list(models))):\n",
    "    model = list(models.values())[i]\n",
    "    model.fit(X_train, y_train)  # Train model\n",
    "\n",
    "    # Make predictions\n",
    "    y_train_pred = model.predict(X_train)\n",
    "    y_test_pred = model.predict(X_test)\n",
    "\n",
    "    # Evaluate Train and Test dataset\n",
    "    model_train_mae, model_train_rmse, model_train_r2 = evaluate_model(y_train, y_train_pred)\n",
    "    model_test_mae, model_test_rmse, model_test_r2 = evaluate_model(y_test, y_test_pred)\n",
    "\n",
    "    print(list(models.keys())[i])\n",
    "    model_list.append(list(models.keys())[i])\n",
    "\n",
    "    print('Model performance for Training set')\n",
    "    print(\"- Root Mean Squared Error: {:.4f}\".format(model_train_rmse))\n",
    "    print(\"- Mean Absolute Error: {:.4f}\".format(model_train_mae))\n",
    "    print(\"- R2 Score: {:.4f}\".format(model_train_r2))\n",
    "\n",
    "    print('----------------------------------')\n",
    "\n",
    "    print('Model performance for Test set')\n",
    "    print(\"- Root Mean Squared Error: {:.4f}\".format(model_test_rmse))\n",
    "    print(\"- Mean Absolute Error: {:.4f}\".format(model_test_mae))\n",
    "    print(\"- R2 Score: {:.4f}\".format(model_test_r2))\n",
    "    r2_list.append(model_test_r2)\n",
    "\n",
    "    # Track the best model based on R2 score\n",
    "    if model_test_r2 > best_model_r2:\n",
    "        best_model_r2 = model_test_r2\n",
    "        best_model_name = list(models.keys())[i]\n",
    "        best_model_pred = y_test_pred\n",
    "\n",
    "    print('=' * 35)\n",
    "    print('\\n')\n",
    "\n",
    "print(f\"The best model is: {best_model_name} with R2 score of {best_model_r2:.4f}\")\n",
    "print(\"Predictions of the best model:\")\n",
    "print(best_model_pred)\n"
   ]
  },
  {
   "cell_type": "markdown",
   "id": "73976764-a28d-4b2e-83fd-b3d22617a0b7",
   "metadata": {},
   "source": [
    "## 8) Results"
   ]
  },
  {
   "cell_type": "code",
   "execution_count": 14,
   "id": "39176684-ce9e-4afc-b90b-83dfebe018ed",
   "metadata": {},
   "outputs": [
    {
     "data": {
      "text/html": [
       "<div>\n",
       "<style scoped>\n",
       "    .dataframe tbody tr th:only-of-type {\n",
       "        vertical-align: middle;\n",
       "    }\n",
       "\n",
       "    .dataframe tbody tr th {\n",
       "        vertical-align: top;\n",
       "    }\n",
       "\n",
       "    .dataframe thead th {\n",
       "        text-align: right;\n",
       "    }\n",
       "</style>\n",
       "<table border=\"1\" class=\"dataframe\">\n",
       "  <thead>\n",
       "    <tr style=\"text-align: right;\">\n",
       "      <th></th>\n",
       "      <th>Model Name</th>\n",
       "      <th>R2_Score</th>\n",
       "    </tr>\n",
       "  </thead>\n",
       "  <tbody>\n",
       "    <tr>\n",
       "      <th>0</th>\n",
       "      <td>Random Forest Regressor</td>\n",
       "      <td>0.941578</td>\n",
       "    </tr>\n",
       "    <tr>\n",
       "      <th>1</th>\n",
       "      <td>Decision Tree</td>\n",
       "      <td>0.931368</td>\n",
       "    </tr>\n",
       "    <tr>\n",
       "      <th>2</th>\n",
       "      <td>K-Neighbors Regressor</td>\n",
       "      <td>0.796214</td>\n",
       "    </tr>\n",
       "  </tbody>\n",
       "</table>\n",
       "</div>"
      ],
      "text/plain": [
       "                Model Name  R2_Score\n",
       "0  Random Forest Regressor  0.941578\n",
       "1            Decision Tree  0.931368\n",
       "2    K-Neighbors Regressor  0.796214"
      ]
     },
     "execution_count": 14,
     "metadata": {},
     "output_type": "execute_result"
    }
   ],
   "source": [
    "pd.DataFrame(list(zip(model_list, r2_list)), columns=['Model Name', 'R2_Score']).sort_values(by=[\"R2_Score\"],ascending=False)"
   ]
  },
  {
   "cell_type": "markdown",
   "id": "3cb5c256-1c27-4e9c-ad88-e6a6f83195bb",
   "metadata": {},
   "source": [
    "## 9) Plot y_pred and best_model_pred"
   ]
  },
  {
   "cell_type": "code",
   "execution_count": 15,
   "id": "23997ff6-d22b-4f0f-bd2c-a3a4508f8142",
   "metadata": {},
   "outputs": [
    {
     "data": {
      "image/png": "[encoded data removed]",
      "text/plain": [
       "<Figure size 640x480 with 1 Axes>"
      ]
     },
     "metadata": {},
     "output_type": "display_data"
    }
   ],
   "source": [
    "plt.scatter(y_test,best_model_pred);\n",
    "plt.xlabel('Actual');\n",
    "plt.ylabel('Predicted');"
   ]
  },
  {
   "cell_type": "code",
   "execution_count": 16,
   "id": "c2ce8ad3-abb9-454d-8e76-4ad8d5d05cee",
   "metadata": {},
   "outputs": [
    {
     "data": {
      "image/png": "[encoded data removed]",
      "text/plain": [
       "<Figure size 640x480 with 1 Axes>"
      ]
     },
     "metadata": {},
     "output_type": "display_data"
    }
   ],
   "source": [
    "sns.regplot(x=y_test, y=best_model_pred, ci=None, color ='red');"
   ]
  },
  {
   "cell_type": "markdown",
   "id": "41301885-45d4-4afb-b994-361d48a2c96a",
   "metadata": {},
   "source": [
    "## 10) Difference between Actual and Predicted Values"
   ]
  },
  {
   "cell_type": "code",
   "execution_count": 17,
   "id": "8aead1b7-ef6b-422a-88ae-630cf8d6cbf2",
   "metadata": {},
   "outputs": [
    {
     "data": {
      "text/html": [
       "<div>\n",
       "<style scoped>\n",
       "    .dataframe tbody tr th:only-of-type {\n",
       "        vertical-align: middle;\n",
       "    }\n",
       "\n",
       "    .dataframe tbody tr th {\n",
       "        vertical-align: top;\n",
       "    }\n",
       "\n",
       "    .dataframe thead th {\n",
       "        text-align: right;\n",
       "    }\n",
       "</style>\n",
       "<table border=\"1\" class=\"dataframe\">\n",
       "  <thead>\n",
       "    <tr style=\"text-align: right;\">\n",
       "      <th></th>\n",
       "      <th>Actual Value</th>\n",
       "      <th>Predicted Value</th>\n",
       "      <th>Difference</th>\n",
       "      <th>Index</th>\n",
       "    </tr>\n",
       "  </thead>\n",
       "  <tbody>\n",
       "    <tr>\n",
       "      <th>8440</th>\n",
       "      <td>3.9</td>\n",
       "      <td>3.901000</td>\n",
       "      <td>-1.000000e-03</td>\n",
       "      <td>0</td>\n",
       "    </tr>\n",
       "    <tr>\n",
       "      <th>16711</th>\n",
       "      <td>3.8</td>\n",
       "      <td>3.792000</td>\n",
       "      <td>8.000000e-03</td>\n",
       "      <td>2</td>\n",
       "    </tr>\n",
       "    <tr>\n",
       "      <th>42588</th>\n",
       "      <td>3.5</td>\n",
       "      <td>3.492000</td>\n",
       "      <td>8.000000e-03</td>\n",
       "      <td>3</td>\n",
       "    </tr>\n",
       "    <tr>\n",
       "      <th>5266</th>\n",
       "      <td>3.5</td>\n",
       "      <td>3.477645</td>\n",
       "      <td>2.235476e-02</td>\n",
       "      <td>4</td>\n",
       "    </tr>\n",
       "    <tr>\n",
       "      <th>24663</th>\n",
       "      <td>3.2</td>\n",
       "      <td>3.240000</td>\n",
       "      <td>-4.000000e-02</td>\n",
       "      <td>5</td>\n",
       "    </tr>\n",
       "    <tr>\n",
       "      <th>...</th>\n",
       "      <td>...</td>\n",
       "      <td>...</td>\n",
       "      <td>...</td>\n",
       "      <td>...</td>\n",
       "    </tr>\n",
       "    <tr>\n",
       "      <th>49217</th>\n",
       "      <td>4.1</td>\n",
       "      <td>3.937000</td>\n",
       "      <td>1.630000e-01</td>\n",
       "      <td>10339</td>\n",
       "    </tr>\n",
       "    <tr>\n",
       "      <th>39524</th>\n",
       "      <td>4.0</td>\n",
       "      <td>3.996000</td>\n",
       "      <td>4.000000e-03</td>\n",
       "      <td>10340</td>\n",
       "    </tr>\n",
       "    <tr>\n",
       "      <th>47849</th>\n",
       "      <td>3.1</td>\n",
       "      <td>3.100000</td>\n",
       "      <td>-4.440892e-16</td>\n",
       "      <td>10341</td>\n",
       "    </tr>\n",
       "    <tr>\n",
       "      <th>30475</th>\n",
       "      <td>3.7</td>\n",
       "      <td>3.700000</td>\n",
       "      <td>7.105427e-15</td>\n",
       "      <td>10342</td>\n",
       "    </tr>\n",
       "    <tr>\n",
       "      <th>45307</th>\n",
       "      <td>3.3</td>\n",
       "      <td>3.309000</td>\n",
       "      <td>-9.000000e-03</td>\n",
       "      <td>10343</td>\n",
       "    </tr>\n",
       "  </tbody>\n",
       "</table>\n",
       "<p>9697 rows × 4 columns</p>\n",
       "</div>"
      ],
      "text/plain": [
       "       Actual Value  Predicted Value    Difference  Index\n",
       "8440            3.9         3.901000 -1.000000e-03      0\n",
       "16711           3.8         3.792000  8.000000e-03      2\n",
       "42588           3.5         3.492000  8.000000e-03      3\n",
       "5266            3.5         3.477645  2.235476e-02      4\n",
       "24663           3.2         3.240000 -4.000000e-02      5\n",
       "...             ...              ...           ...    ...\n",
       "49217           4.1         3.937000  1.630000e-01  10339\n",
       "39524           4.0         3.996000  4.000000e-03  10340\n",
       "47849           3.1         3.100000 -4.440892e-16  10341\n",
       "30475           3.7         3.700000  7.105427e-15  10342\n",
       "45307           3.3         3.309000 -9.000000e-03  10343\n",
       "\n",
       "[9697 rows x 4 columns]"
      ]
     },
     "execution_count": 17,
     "metadata": {},
     "output_type": "execute_result"
    }
   ],
   "source": [
    "pred_df=pd.DataFrame({'Actual Value':y_test, 'Predicted Value':best_model_pred, 'Difference':y_test-best_model_pred})\n",
    "pred_df['Index'] = range(0, len(pred_df))\n",
    "#pred_df.sample(20)\n",
    "pred_df[pred_df['Actual Value'] > 3]"
   ]
  },
  {
   "cell_type": "code",
   "execution_count": 18,
   "id": "749d2a40-df70-4070-a372-9eaa53dcc493",
   "metadata": {},
   "outputs": [
    {
     "name": "stdout",
     "output_type": "stream",
     "text": [
      "The prediction for the given row is: 3.31\n"
     ]
    }
   ],
   "source": [
    "table_row = X_test_df.iloc[[10343]]  \n",
    "\n",
    "preprocessed_row = preprocessor.transform(table_row)  \n",
    "\n",
    "prediction = models[best_model_name].predict(preprocessed_row)\n",
    "\n",
    "print(f\"The prediction for the given row is: {prediction[0]:.2f}\")\n"
   ]
  },
  {
   "cell_type": "markdown",
   "id": "cc99bf0b-115c-41bb-8b2f-b3846df42664",
   "metadata": {},
   "source": [
    "## 11) Conclusion:\n",
    "- Random Forest is the best choice due to its balance between training and test performance.\n",
    "- Decision Tree may be slightly overfitting, but it still performs well.\n",
    "- KNN is not an effective model for this dataset and may need tuning or replacement.\n",
    "- The dataset is imbalanced, with only 4.36% of restaurants having a rating of below 3.0. This could lead to bias in the model, where it performs well on the majority class (higher-rated restaurants) but struggles with underrepresented low ratings. To improve model generalization, techniques like resampling, class weighting, or adjusting evaluation metrics (e.g., RMSE, MAE) should be considered."
   ]
  },
  {
   "cell_type": "code",
   "execution_count": null,
   "id": "9ccb71e7-07fd-4bfb-b790-92aaa5e74b20",
   "metadata": {},
   "outputs": [],
   "source": []
  }
 ],
 "metadata": {
  "kernelspec": {
   "display_name": "Python 3 (ipykernel)",
   "language": "python",
   "name": "python3"
  },
  "language_info": {
   "codemirror_mode": {
    "name": "ipython",
    "version": 3
   },
   "file_extension": ".py",
   "mimetype": "text/x-python",
   "name": "python",
   "nbconvert_exporter": "python",
   "pygments_lexer": "ipython3",
   "version": "3.12.7"
  }
 },
 "nbformat": 4,
 "nbformat_minor": 5
}
